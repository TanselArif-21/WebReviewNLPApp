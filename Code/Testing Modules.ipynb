{
 "cells": [
  {
   "cell_type": "code",
   "execution_count": 17,
   "metadata": {},
   "outputs": [],
   "source": [
    "import WebScraper\n",
    "import TopicModeling\n",
    "import string\n",
    "import random\n",
    "import os\n",
    "import Directory\n",
    "from pathlib import Path"
   ]
  },
  {
   "cell_type": "code",
   "execution_count": 4,
   "metadata": {},
   "outputs": [],
   "source": [
    "url1 = 'https://www.tripadvisor.co.uk/Attraction_Review-g190384-d6755801-Reviews'\n",
    "url2 = '-The_House_of_Dionysus-Paphos_Paphos_District.html'\n",
    "increment_string1 = '-or'\n",
    "increment_string2 = ''\n",
    "total_pages = 2\n",
    "increment = 5\n",
    "site = 'tripadvisor'\n",
    "filename = ''"
   ]
  },
  {
   "cell_type": "code",
   "execution_count": 5,
   "metadata": {},
   "outputs": [],
   "source": [
    "for i in range(4):\n",
    "    filename = filename + random.choice(string.ascii_letters)\n"
   ]
  },
  {
   "cell_type": "code",
   "execution_count": 7,
   "metadata": {},
   "outputs": [
    {
     "name": "stdout",
     "output_type": "stream",
     "text": [
      "Getting reviews 0/ 2\n",
      "https://www.tripadvisor.co.uk/Attraction_Review-g190384-d6755801-Reviews-The_House_of_Dionysus-Paphos_Paphos_District.html\n",
      "Diagnostics: Checking if dataframes are of equal size...\n",
      "Size: 5\n",
      "Size: 5\n",
      "Size: 5\n",
      "Size: 5\n",
      "Diagnostics complete!\n",
      "Getting reviews 1/ 2\n",
      "https://www.tripadvisor.co.uk/Attraction_Review-g190384-d6755801-Reviews-or5-The_House_of_Dionysus-Paphos_Paphos_District.html\n",
      "Diagnostics: Checking if dataframes are of equal size...\n",
      "Size: 5\n",
      "Size: 5\n",
      "Size: 5\n",
      "Size: 5\n",
      "Diagnostics complete!\n",
      "Getting reviews 2/ 2\n",
      "Complete!!!\n"
     ]
    }
   ],
   "source": [
    "ms = WebScraper.WebScraper(site=site,url1=url1,\n",
    "                      url2=url2,increment_string1=increment_string1,increment_string2=increment_string2,\n",
    "                      total_pages=int(total_pages),increment=int(increment),silent=False)\n",
    "\n",
    "ms.fullscraper()"
   ]
  },
  {
   "cell_type": "code",
   "execution_count": 8,
   "metadata": {},
   "outputs": [],
   "source": [
    "filePath = Directory.outputPath\n",
    "if filename=='':\n",
    "    for i in range(4):\n",
    "        filename = filename + random.choice(string.ascii_letters)\n",
    "\n",
    "\n",
    "\n"
   ]
  },
  {
   "cell_type": "code",
   "execution_count": 9,
   "metadata": {},
   "outputs": [],
   "source": [
    "myTopicModel = TopicModeling.TopicModeling(ms.all_reviews)"
   ]
  },
  {
   "cell_type": "code",
   "execution_count": 10,
   "metadata": {},
   "outputs": [
    {
     "name": "stdout",
     "output_type": "stream",
     "text": [
      "\n",
      " The Coherence Score with 2 topics is 0.4394984737215535\n"
     ]
    }
   ],
   "source": [
    "myTopicModel.ldaFromReviews()\n"
   ]
  },
  {
   "cell_type": "code",
   "execution_count": 11,
   "metadata": {},
   "outputs": [],
   "source": [
    "myTopicModel.generate_wordcloud()\n"
   ]
  },
  {
   "cell_type": "code",
   "execution_count": 14,
   "metadata": {},
   "outputs": [
    {
     "data": {
      "text/plain": [
       "'C:\\\\Users\\\\tanse\\\\Documents\\\\MyStuff\\\\Temp\\\\TemplateProjects\\\\Output\\\\templates\\\\LDAhtmls\\\\srFz1.html'"
      ]
     },
     "execution_count": 14,
     "metadata": {},
     "output_type": "execute_result"
    }
   ],
   "source": [
    "os.path.join(filePath,'templates','LDAhtmls',filename + '1' + '.html')"
   ]
  },
  {
   "cell_type": "code",
   "execution_count": 19,
   "metadata": {},
   "outputs": [],
   "source": [
    "save_path = os.path.join(filePath,'templates','LDAhtmls',filename + '1' + '.html')\n",
    "Path(os.path.sep.join(save_path.split(os.path.sep)[:-1])).mkdir(parents=True, exist_ok=True)\n",
    "myTopicModel.saveLDA(os.path.join(filePath,'templates','LDAhtmls',filename + '1' + '.html'))\n"
   ]
  },
  {
   "cell_type": "code",
   "execution_count": 21,
   "metadata": {},
   "outputs": [],
   "source": [
    "save_path = os.path.join(filePath,'static')\n",
    "Path(save_path).mkdir(parents=True, exist_ok=True)\n",
    "myTopicModel.saveWordcloud(os.path.join(filePath,'static',filename + '2' + '.png'))"
   ]
  },
  {
   "cell_type": "code",
   "execution_count": null,
   "metadata": {},
   "outputs": [],
   "source": []
  }
 ],
 "metadata": {
  "kernelspec": {
   "display_name": "venv",
   "language": "python",
   "name": "venv"
  },
  "language_info": {
   "codemirror_mode": {
    "name": "ipython",
    "version": 3
   },
   "file_extension": ".py",
   "mimetype": "text/x-python",
   "name": "python",
   "nbconvert_exporter": "python",
   "pygments_lexer": "ipython3",
   "version": "3.7.3"
  }
 },
 "nbformat": 4,
 "nbformat_minor": 4
}
